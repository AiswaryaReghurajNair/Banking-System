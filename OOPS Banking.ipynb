{
 "cells": [
  {
   "cell_type": "code",
   "execution_count": 27,
   "id": "ea3b4a11-7acf-4edd-ae73-a3cbd70da982",
   "metadata": {},
   "outputs": [
    {
     "name": "stdout",
     "output_type": "stream",
     "text": [
      "Welcome!!\n"
     ]
    },
    {
     "name": "stdin",
     "output_type": "stream",
     "text": [
      "Enter account number: 12345\n",
      "Enter password: password123\n"
     ]
    },
    {
     "name": "stdout",
     "output_type": "stream",
     "text": [
      "Login Successfull\n",
      "1.View balance\n",
      "2.Deposit\n",
      "3.Withdraw\n",
      "4.Transaction History\n",
      "5.Exit\n"
     ]
    },
    {
     "name": "stdin",
     "output_type": "stream",
     "text": [
      "Enter your choice: 1\n"
     ]
    },
    {
     "name": "stdout",
     "output_type": "stream",
     "text": [
      "Your current balance is Rs0\n",
      "Invalid entry\n",
      "1.View balance\n",
      "2.Deposit\n",
      "3.Withdraw\n",
      "4.Transaction History\n",
      "5.Exit\n"
     ]
    },
    {
     "name": "stdin",
     "output_type": "stream",
     "text": [
      "Enter your choice: 4\n"
     ]
    },
    {
     "name": "stdout",
     "output_type": "stream",
     "text": [
      "Not transacation yet\n",
      "1.View balance\n",
      "2.Deposit\n",
      "3.Withdraw\n",
      "4.Transaction History\n",
      "5.Exit\n"
     ]
    },
    {
     "name": "stdin",
     "output_type": "stream",
     "text": [
      "Enter your choice: 2\n",
      "Enter your amount 5000000\n"
     ]
    },
    {
     "name": "stdout",
     "output_type": "stream",
     "text": [
      "Rs5000000.0 deposited to your account. Current balance is Rs5000000.0\n",
      "Invalid entry\n",
      "1.View balance\n",
      "2.Deposit\n",
      "3.Withdraw\n",
      "4.Transaction History\n",
      "5.Exit\n"
     ]
    },
    {
     "name": "stdin",
     "output_type": "stream",
     "text": [
      "Enter your choice: 3\n",
      "Enter your amount: 100000\n"
     ]
    },
    {
     "name": "stdout",
     "output_type": "stream",
     "text": [
      "Rs100000.0 is withdrawn successfully. Current balance is Rs4900000.0\n",
      "Invalid entry\n",
      "1.View balance\n",
      "2.Deposit\n",
      "3.Withdraw\n",
      "4.Transaction History\n",
      "5.Exit\n"
     ]
    },
    {
     "name": "stdin",
     "output_type": "stream",
     "text": [
      "Enter your choice: 4\n"
     ]
    },
    {
     "name": "stdout",
     "output_type": "stream",
     "text": [
      "Transaction History\n",
      "Deposited: ₹5000000.0\n",
      "Withdrew: ₹100000.0\n",
      "1.View balance\n",
      "2.Deposit\n",
      "3.Withdraw\n",
      "4.Transaction History\n",
      "5.Exit\n"
     ]
    },
    {
     "name": "stdin",
     "output_type": "stream",
     "text": [
      "Enter your choice: 5\n"
     ]
    },
    {
     "name": "stdout",
     "output_type": "stream",
     "text": [
      "Thank you for banking with us!!\n"
     ]
    }
   ],
   "source": [
    "class BankAccount:\n",
    "    def __init__(self, account_number, password):\n",
    "        self.account_number=account_number\n",
    "        self.password=password\n",
    "        self.balance=0\n",
    "        self.transaction_history=[]\n",
    "    def deposit(self, amount):\n",
    "        if amount>0:\n",
    "            self.balance+=amount\n",
    "            self.transaction_history.append(f\"Deposited: ₹{amount}\")\n",
    "            print(f\"Rs{amount} deposited to your account. Current balance is Rs{self.balance}\")\n",
    "        else:\n",
    "            print(\"Invalid deposit amount\")\n",
    "\n",
    "    def withdraw(self, amount):\n",
    "        if amount>self.balance:\n",
    "            print(\"Insufficient balance\")\n",
    "        elif amount<=0:\n",
    "            print(\"Invalid withdraw amount\")\n",
    "        else:\n",
    "            self.balance-=amount\n",
    "            self.transaction_history.append(f\"Withdrew: ₹{amount}\")\n",
    "            print(f\"Rs{amount} is withdrawn successfully. Current balance is Rs{self.balance}\")\n",
    "\n",
    "    def view_balance(self):\n",
    "        print(f\"Your current balance is Rs{self.balance}\")\n",
    "\n",
    "    def show_transaction_history(self):\n",
    "        if not self.transaction_history:\n",
    "            print(\"Not transacation yet\")\n",
    "        else:\n",
    "            print(\"Transaction History\")\n",
    "            for transaction in self.transaction_history:\n",
    "                print(transaction)\n",
    "\n",
    "def account_login(accounts):\n",
    "    account_number=input(\"Enter account number:\")\n",
    "    password=input(\"Enter password:\")\n",
    "    if account_number  in accounts and accounts[account_number].password==password:\n",
    "        print(\"Login Successfull\")\n",
    "        return accounts[account_number]\n",
    "    else:\n",
    "        print(\"Invalid account number\")\n",
    "        return None\n",
    "def main():\n",
    "    accounts={\n",
    "        \"12345\":BankAccount(\"12345\",\"password123\"),\n",
    "        \"67890\":BankAccount(\"67890\",\"password456\")\n",
    "        \n",
    "    }\n",
    "    print(\"Welcome!!\")\n",
    "    account=None\n",
    "    while not account:\n",
    "        account=account_login(accounts)\n",
    "\n",
    "    \n",
    "    while True:\n",
    "        print(\"1.View balance\")\n",
    "        print(\"2.Deposit\")\n",
    "        print(\"3.Withdraw\")\n",
    "        print(\"4.Transaction History\")\n",
    "        print(\"5.Exit\")\n",
    "        \n",
    "        choice=input(\"Enter your choice:\")\n",
    "\n",
    "        if choice==\"1\":\n",
    "            account.view_balance()\n",
    "        if choice==\"2\":\n",
    "            amount=float(input(\"Enter your amount\"))\n",
    "            account.deposit(amount)\n",
    "        if choice==\"3\":\n",
    "           amount=float(input(\"Enter your amount:\"))\n",
    "           account.withdraw(amount) \n",
    "        if choice==\"4\":\n",
    "            account.show_transaction_history()\n",
    "        elif choice==\"5\":\n",
    "            print(\"Thank you for banking with us!!\")\n",
    "            break\n",
    "        else:\n",
    "            print(\"Invalid entry\")\n",
    "\n",
    "main()\n",
    "                        "
   ]
  },
  {
   "cell_type": "code",
   "execution_count": null,
   "id": "a487c541-0317-447f-b9e9-ef8b6abe015d",
   "metadata": {},
   "outputs": [],
   "source": []
  },
  {
   "cell_type": "code",
   "execution_count": null,
   "id": "df6623c2-0853-4191-97cc-3d3c9b5669b5",
   "metadata": {},
   "outputs": [],
   "source": []
  },
  {
   "cell_type": "code",
   "execution_count": null,
   "id": "2c02ffb6-b532-46d0-a68d-b9052265ddbc",
   "metadata": {},
   "outputs": [],
   "source": []
  },
  {
   "cell_type": "code",
   "execution_count": null,
   "id": "0f14d48c-849c-4f20-946e-75f7af09e4dc",
   "metadata": {},
   "outputs": [],
   "source": []
  }
 ],
 "metadata": {
  "kernelspec": {
   "display_name": "Python 3 (ipykernel)",
   "language": "python",
   "name": "python3"
  },
  "language_info": {
   "codemirror_mode": {
    "name": "ipython",
    "version": 3
   },
   "file_extension": ".py",
   "mimetype": "text/x-python",
   "name": "python",
   "nbconvert_exporter": "python",
   "pygments_lexer": "ipython3",
   "version": "3.12.4"
  }
 },
 "nbformat": 4,
 "nbformat_minor": 5
}
